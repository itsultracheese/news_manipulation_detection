{
 "cells": [
  {
   "cell_type": "code",
   "execution_count": 63,
   "metadata": {},
   "outputs": [],
   "source": [
    "import pandas as pd\n",
    "import os\n",
    "\n",
    "import random\n",
    "from random import randint"
   ]
  },
  {
   "cell_type": "code",
   "execution_count": 11,
   "metadata": {},
   "outputs": [],
   "source": [
    "path_train = \"/Users/sophie/Downloads/datasets/train-articles\"\n",
    "path_train_labels = \"/Users/sophie/Downloads/datasets/train-labels-task-flc-tc/\""
   ]
  },
  {
   "cell_type": "code",
   "execution_count": 12,
   "metadata": {},
   "outputs": [],
   "source": [
    "#files[0][7:16]"
   ]
  },
  {
   "cell_type": "code",
   "execution_count": 172,
   "metadata": {},
   "outputs": [],
   "source": [
    "train_articles = {}\n",
    "files = os.listdir(path_train)\n",
    "c = 0\n",
    "for fle in files:\n",
    "    i = files[c][7:16]\n",
    "    try:\n",
    "        with open(path_train + '/' + fle, 'r') as f:\n",
    "            train_articles[i] = f.read()\n",
    "            c += 1\n",
    "\n",
    "    except:\n",
    "        continue"
   ]
  },
  {
   "cell_type": "code",
   "execution_count": 173,
   "metadata": {},
   "outputs": [],
   "source": [
    "cnt = 0\n",
    "for fle in files:\n",
    "    i = files[cnt][7:16]\n",
    "    train_articles[i] = ('').join(train_articles[i])\n",
    "    cnt += 1"
   ]
  },
  {
   "cell_type": "code",
   "execution_count": 27,
   "metadata": {},
   "outputs": [],
   "source": [
    "teg_files = os.listdir(path_train_labels)\n",
    "tegs = {}\n",
    "for file in teg_files:\n",
    "    i = file[7:16]\n",
    "    try:\n",
    "        with open(path_train_labels + file, 'r') as fp:\n",
    "            tegs[i] = fp.read()\n",
    "    except:\n",
    "        continue"
   ]
  },
  {
   "cell_type": "code",
   "execution_count": 29,
   "metadata": {},
   "outputs": [],
   "source": [
    "#train_articles"
   ]
  },
  {
   "cell_type": "markdown",
   "metadata": {},
   "source": [
    "Create a list with articles"
   ]
  },
  {
   "cell_type": "code",
   "execution_count": 30,
   "metadata": {
    "scrolled": true
   },
   "outputs": [],
   "source": [
    "#train_articles[0]"
   ]
  },
  {
   "cell_type": "code",
   "execution_count": 32,
   "metadata": {},
   "outputs": [],
   "source": [
    "teg_files = os.listdir(path_train_labels)\n",
    "tegs = {}\n",
    "for file in teg_files:\n",
    "    i = file[7:16]\n",
    "    try:\n",
    "        with open(path_train_labels + file, 'r') as fp:\n",
    "            tegs[i] = fp.read()\n",
    "    except:\n",
    "        continue\n"
   ]
  },
  {
   "cell_type": "code",
   "execution_count": 33,
   "metadata": {},
   "outputs": [],
   "source": [
    "def take_manipulation(teg):\n",
    "    return teg.split()[1]"
   ]
  },
  {
   "cell_type": "code",
   "execution_count": 103,
   "metadata": {},
   "outputs": [
    {
     "name": "stdout",
     "output_type": "stream",
     "text": [
      "701225819\tName_Calling,Labeling\t177\t187\n",
      "701225819\tRepetition\t2689\t2694\n",
      "701225819\tRepetition\t2787\t2792\n",
      "701225819\tLoaded_Language\t2982\t2991\n",
      "701225819\tName_Calling,Labeling\t77\t99\n",
      "701225819\tName_Calling,Labeling\t996\t1019\n",
      "701225819\tLoaded_Language\t2174\t2182\n",
      "701225819\tRepetition\t2747\t2752\n",
      "701225819\tSlogans\t3787\t3804\n",
      "701225819\tName_Calling,Labeling\t3837\t3860\n",
      "701225819\tName_Calling,Labeling\t4606\t4636\n",
      "701225819\tName_Calling,Labeling\t4720\t4739\n",
      "701225819\tAppeal_to_fear-prejudice\t131\t143\n",
      "701225819\tLoaded_Language\t305\t313\n",
      "701225819\tAppeal_to_fear-prejudice\t1201\t1299\n",
      "701225819\tName_Calling,Labeling\t1525\t1551\n",
      "701225819\tLoaded_Language\t1572\t1583\n",
      "701225819\tLoaded_Language\t1767\t1771\n",
      "701225819\tRepetition\t2616\t2621\n",
      "701225819\tLoaded_Language\t3309\t3315\n",
      "701225819\tName_Calling,Labeling\t4268\t4313\n",
      "701225819\tLoaded_Language\t5914\t5927\n",
      "701225819\tLoaded_Language\t6102\t6112\n",
      "701225819\tName_Calling,Labeling\t111\t143\n",
      "701225819\tAppeal_to_fear-prejudice\t1493\t1605\n",
      "701225819\tName_Calling,Labeling\t1872\t1889\n",
      "701225819\tSlogans\t1967\t1987\n",
      "701225819\tName_Calling,Labeling\t2798\t2811\n",
      "\n"
     ]
    }
   ],
   "source": [
    "for i in tegs['701225819'].split('\\n'):\n",
    "    print(i)"
   ]
  },
  {
   "cell_type": "code",
   "execution_count": 35,
   "metadata": {},
   "outputs": [],
   "source": [
    "d = {}\n",
    "\n",
    "for k in tegs.keys():\n",
    "    for s in tegs[k].split('\\n'):\n",
    "        if s != '':\n",
    "            try: \n",
    "                d[take_manipulation(s)] += 1\n",
    "            except KeyError:\n",
    "                d[take_manipulation(s)] = 1"
   ]
  },
  {
   "cell_type": "code",
   "execution_count": 36,
   "metadata": {},
   "outputs": [
    {
     "data": {
      "text/plain": [
       "{'Loaded_Language': 2123,\n",
       " 'Name_Calling,Labeling': 1058,\n",
       " 'Flag-Waving': 229,\n",
       " 'Repetition': 621,\n",
       " 'Whataboutism,Straw_Men,Red_Herring': 107,\n",
       " 'Exaggeration,Minimisation': 466,\n",
       " 'Appeal_to_fear-prejudice': 294,\n",
       " 'Appeal_to_Authority': 144,\n",
       " 'Doubt': 493,\n",
       " 'Slogans': 129,\n",
       " 'Bandwagon,Reductio_ad_hitlerum': 72,\n",
       " 'Causal_Oversimplification': 209,\n",
       " 'Thought-terminating_Cliches': 76,\n",
       " 'Black-and-White_Fallacy': 107}"
      ]
     },
     "execution_count": 36,
     "metadata": {},
     "output_type": "execute_result"
    }
   ],
   "source": [
    "d #сколько строчек с такими значениями??"
   ]
  },
  {
   "cell_type": "code",
   "execution_count": 37,
   "metadata": {},
   "outputs": [],
   "source": [
    "d_1 = {d[k] : k for k in d.keys()} \n",
    "sorted_k = sorted(list(d_1.keys()))\n"
   ]
  },
  {
   "cell_type": "code",
   "execution_count": 38,
   "metadata": {
    "scrolled": true
   },
   "outputs": [
    {
     "data": {
      "text/plain": [
       "{2123: 'Loaded_Language',\n",
       " 1058: 'Name_Calling,Labeling',\n",
       " 229: 'Flag-Waving',\n",
       " 621: 'Repetition',\n",
       " 107: 'Black-and-White_Fallacy',\n",
       " 466: 'Exaggeration,Minimisation',\n",
       " 294: 'Appeal_to_fear-prejudice',\n",
       " 144: 'Appeal_to_Authority',\n",
       " 493: 'Doubt',\n",
       " 129: 'Slogans',\n",
       " 72: 'Bandwagon,Reductio_ad_hitlerum',\n",
       " 209: 'Causal_Oversimplification',\n",
       " 76: 'Thought-terminating_Cliches'}"
      ]
     },
     "execution_count": 38,
     "metadata": {},
     "output_type": "execute_result"
    }
   ],
   "source": [
    "d_1"
   ]
  },
  {
   "cell_type": "code",
   "execution_count": 64,
   "metadata": {},
   "outputs": [],
   "source": [
    "#tegs['763260610'].split('\\n')[::-1]"
   ]
  },
  {
   "cell_type": "code",
   "execution_count": 40,
   "metadata": {},
   "outputs": [],
   "source": [
    "c = 0\n",
    "for t in tegs.keys():\n",
    "    if 'Loaded_Language' in [take_manipulation(z) for z in tegs[t].split('\\n')[:-1]]:\n",
    "        c+=1 #спросить"
   ]
  },
  {
   "cell_type": "code",
   "execution_count": 41,
   "metadata": {},
   "outputs": [],
   "source": [
    "c = 0\n",
    "for t in tegs.keys():\n",
    "    if 'Exaggeration,Minimisation' in [take_manipulation(z) for z in tegs[t].split('\\n')[:-1]]:\n",
    "        c+=1"
   ]
  },
  {
   "cell_type": "code",
   "execution_count": 42,
   "metadata": {},
   "outputs": [
    {
     "data": {
      "text/plain": [
       "171"
      ]
     },
     "execution_count": 42,
     "metadata": {},
     "output_type": "execute_result"
    }
   ],
   "source": [
    "c"
   ]
  },
  {
   "cell_type": "code",
   "execution_count": 204,
   "metadata": {},
   "outputs": [],
   "source": [
    "def set_borders(num):\n",
    "    art = train_articles[num]\n",
    "    t = tegs[str(num)]\n",
    "    b = []\n",
    "    mans = []\n",
    "    for s in t.split('\\n'):\n",
    "        if s != '':\n",
    "            b.append([int(s.split()[2]),int(s.split()[3])])\n",
    "            mans.append(take_manipulation(s))\n",
    "    if len(b) != 0:\n",
    "        res_art = ''\n",
    "        prev_last = 0\n",
    "        for i in range(len(b)):\n",
    "            res_art += art[prev_last:b[i][0]]\n",
    "            manipulation = '     !!!{' + art[b[i][0]:b[i][1]] + '}!!!   (MANIPULATION: ' + mans[i] + ')'\n",
    "            res_art += manipulation\n",
    "            prev_last = b[i][1] \n",
    "        \n",
    "    return res_art"
   ]
  },
  {
   "cell_type": "code",
   "execution_count": 205,
   "metadata": {},
   "outputs": [],
   "source": [
    "#set_borders('701225819')"
   ]
  },
  {
   "cell_type": "code",
   "execution_count": 206,
   "metadata": {},
   "outputs": [],
   "source": [
    "#train_articles['701225819']"
   ]
  },
  {
   "cell_type": "code",
   "execution_count": 207,
   "metadata": {},
   "outputs": [
    {
     "data": {
      "text/plain": [
       "'the greatest leader in modern Western history'"
      ]
     },
     "execution_count": 207,
     "metadata": {},
     "output_type": "execute_result"
    }
   ],
   "source": [
    "train_articles['701225819'][4268:4313]"
   ]
  },
  {
   "cell_type": "markdown",
   "metadata": {},
   "source": [
    "Создание функции случайного распределения 0, 1, 2 по каждой новостной статье"
   ]
  },
  {
   "cell_type": "code",
   "execution_count": 281,
   "metadata": {},
   "outputs": [],
   "source": [
    "def random_(train, files_txt):\n",
    "    n = 0\n",
    "    rand = {}\n",
    "    for fle in files:\n",
    "        sen = []\n",
    "        i = files[n][7:16]\n",
    "        for word in range(len(train_articles[i].split())+1):\n",
    "            sen.append(random.randint(0, 2))\n",
    "        rand[i] = sen\n",
    "        n += 1\n",
    "\n"
   ]
  },
  {
   "cell_type": "code",
   "execution_count": 269,
   "metadata": {},
   "outputs": [],
   "source": [
    "#rand.keys()"
   ]
  },
  {
   "cell_type": "code",
   "execution_count": 282,
   "metadata": {},
   "outputs": [
    {
     "ename": "AttributeError",
     "evalue": "'NoneType' object has no attribute 'keys'",
     "output_type": "error",
     "traceback": [
      "\u001b[0;31m---------------------------------------------------------------------------\u001b[0m",
      "\u001b[0;31mAttributeError\u001b[0m                            Traceback (most recent call last)",
      "\u001b[0;32m<ipython-input-282-2e1177dd62d1>\u001b[0m in \u001b[0;36m<module>\u001b[0;34m\u001b[0m\n\u001b[0;32m----> 1\u001b[0;31m \u001b[0mrandom_\u001b[0m\u001b[0;34m(\u001b[0m\u001b[0mtrain_articles\u001b[0m\u001b[0;34m,\u001b[0m \u001b[0mfiles\u001b[0m\u001b[0;34m)\u001b[0m\u001b[0;34m.\u001b[0m\u001b[0mkeys\u001b[0m\u001b[0;34m(\u001b[0m\u001b[0;34m)\u001b[0m\u001b[0;34m\u001b[0m\u001b[0;34m\u001b[0m\u001b[0m\n\u001b[0m",
      "\u001b[0;31mAttributeError\u001b[0m: 'NoneType' object has no attribute 'keys'"
     ]
    }
   ],
   "source": [
    "random_(train_articles, files).keys()"
   ]
  },
  {
   "cell_type": "code",
   "execution_count": 276,
   "metadata": {
    "scrolled": true
   },
   "outputs": [
    {
     "data": {
      "text/plain": [
       "dict_keys(['701225819', '754131438', '707566605', '708561738', '782086447', '710376094', '754179642', '757243988', '729303442', '699478811', '111111115', '761969038', '999001188', '729581752', '761564397', '756114837', '764664283', '736231219', '711964584', '696694316', '790677230', '729561658', '111111114', '789370998', '999000136', '707451080', '771546417', '698018235', '788173482', '703806098', '999000849', '697959084', '703698295', '724095467', '776368676', '725824328', '725731328', '795689901', '728169864', '781847297', '793467906', '776616374', '795079843', '771406408', '700387229', '111111117', '765982381', '735815173', '728343601', '781768042', '999000135', '732154721', '769682854', '999000125', '999000870', '728972961', '731063195', '764715911', '111111113', '701447437', '741923579', '729651527', '723537899', '711596363', '758882558', '111111112', '762956953', '757713354', '758812201', '782149225', '704856340', '732708002', '706636401', '730149656', '695833178', '999000124', '723793978', '795379208', '715790840', '731927633', '730237078', '741802985', '723501118', '701553469', '793534424', '111111111', '711622457', '725238842', '721406153', '733754480', '738207834', '741896049', '789121798', '697063039', '999000133', '769962328', '999000154', '723883127', '729578579', '754348478', '776535164', '761546223', '757964238', '774145019', '731511020', '762206044', '724095598', '728680557', '754231597', '762200179', '723844295', '759468687', '707772906', '735815503', '762152527', '789121265', '763260610', '790266787', '762340819', '770581969', '697444415', '775448623', '735855251', '999000155', '706088110', '730061195', '708487008', '711566593', '738060046', '790667730', '718595845', '755393220', '735090638', '694356862', '757611486', '727174208', '698719689', '780787440', '771254016', '705409419', '723823436', '730036755', '782017101', '999000142', '713130996', '730559808', '786250729', '771879020', '737255982', '728153988', '702077783', '777488669', '725276027', '758512204', '712382330', '769752554', '790720480', '737194975', '754402671', '721890296', '701837665', '999000184', '999000147', '999000145', '786527921', '696246189', '770221823', '699142854', '762546428', '776373795', '758669180', '761334950', '780619695', '765953146', '704591553', '740808926', '741655444', '709732928', '788900262', '702077434', '999000149', '780414700', '766942310', '783702663', '731762731', '757171650', '999000565', '765197039', '706501640', '757843275', '700662577', '727405181', '710100700', '780786973', '786919720', '727569885', '703821117', '731513824', '725498022', '787002327', '761780613', '786731884', '770376380', '999001297', '701939679', '787668628', '729410793', '765385479', '999000599', '727497152', '727869189', '762160164', '764609985', '732610971', '734265267', '729700539', '761610997', '767129999', '729670169', '785801366', '999001296', '770938827', '700461600', '737457870', '694327499', '695108099', '999001241', '755814432', '715588833', '703056647', '787759779', '728758697', '770156173', '705035735', '697996062', '729549972', '708071969', '999001293', '790483991', '999001287', '790720714', '773520636', '788056108', '999000158', '765913191', '766632016', '789370909', '774904810', '761969692', '790665855', '711716996', '698503276', '699291100', '706600938', '770945799', '716469423', '764518567', '706777811', '706661242', '701933838', '772947654', '781577820', '702111021', '999000159', '730573740', '999000894', '999000880', '731178960', '755459860', '111111134', '739140767', '735265649', '722512241', '769962236', '758469195', '776049384', '761968851', '761674108', '761874505', '789615291', '999001619', '773937361', '111111135', '111111121', '765029945', '755170235', '730389374', '701299732', '770956434', '111111137', '111111123', '721710340', '754111899', '730268758', '779394730', '696264594', '795703371', '758385628', '787142429', '111111122', '730865684', '111111136', '758386255', '698780559', '736757214', '787529309', '730019938', '788816478', '727634031', '999001226', '739091070', '999000312', '729668796', '762147609', '759478604', '722507879', '111111132', '696735702', '787955075', '790777028', '778664280', '770877978', '770156851', '758472954', '795693029', '774007496', '774637726', '111111133', '729348908', '697454736', '730222442', '999001970', '793921939', '766084411', '698092698', '999000675', '729368012', '727658675', '999001033', '718312499', '788726416', '729940206', '778139122', '727736557', '999001621', '111111131', '758756657', '763440871', '724791253', '754508491', '769427494', '700551604', '758477392', '776345502', '752287274', '786344683', '727493378', '773748383', '727128296', '727736595', '694811415', '795691173', '771655795', '111111124', '740356006', '999001032', '759337941', '697472447', '761897089', '730652769', '763761219'])"
      ]
     },
     "execution_count": 276,
     "metadata": {},
     "output_type": "execute_result"
    }
   ],
   "source": [
    "rand.keys()"
   ]
  },
  {
   "cell_type": "code",
   "execution_count": 213,
   "metadata": {
    "scrolled": true
   },
   "outputs": [
    {
     "data": {
      "text/plain": [
       "428"
      ]
     },
     "execution_count": 213,
     "metadata": {},
     "output_type": "execute_result"
    }
   ],
   "source": [
    "len(train_articles['707566605'].split())+1\n"
   ]
  },
  {
   "cell_type": "markdown",
   "metadata": {},
   "source": [
    "Let's compare numbers and corresponding words"
   ]
  },
  {
   "cell_type": "code",
   "execution_count": 78,
   "metadata": {},
   "outputs": [
    {
     "data": {
      "text/plain": [
       "0"
      ]
     },
     "execution_count": 78,
     "metadata": {},
     "output_type": "execute_result"
    }
   ],
   "source": [
    "rand['701225819'][0]"
   ]
  },
  {
   "cell_type": "code",
   "execution_count": 79,
   "metadata": {
    "scrolled": true
   },
   "outputs": [
    {
     "data": {
      "text/plain": [
       "'South'"
      ]
     },
     "execution_count": 79,
     "metadata": {},
     "output_type": "execute_result"
    }
   ],
   "source": [
    "train_articles['701225819'].split()[0]"
   ]
  },
  {
   "cell_type": "markdown",
   "metadata": {},
   "source": [
    "Bert"
   ]
  },
  {
   "cell_type": "code",
   "execution_count": null,
   "metadata": {},
   "outputs": [],
   "source": []
  }
 ],
 "metadata": {
  "kernelspec": {
   "display_name": "Python 3",
   "language": "python",
   "name": "python3"
  },
  "language_info": {
   "codemirror_mode": {
    "name": "ipython",
    "version": 3
   },
   "file_extension": ".py",
   "mimetype": "text/x-python",
   "name": "python",
   "nbconvert_exporter": "python",
   "pygments_lexer": "ipython3",
   "version": "3.8.5"
  }
 },
 "nbformat": 4,
 "nbformat_minor": 4
}
