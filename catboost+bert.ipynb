{
 "cells": [
  {
   "cell_type": "code",
   "execution_count": 1,
   "metadata": {},
   "outputs": [
    {
     "name": "stdout",
     "output_type": "stream",
     "text": [
      "0:\tlearn: 0.6462615\ttotal: 243ms\tremaining: 24s\n",
      "1:\tlearn: 0.6076840\ttotal: 476ms\tremaining: 23.3s\n",
      "2:\tlearn: 0.5756428\ttotal: 696ms\tremaining: 22.5s\n",
      "3:\tlearn: 0.5439498\ttotal: 918ms\tremaining: 22s\n",
      "4:\tlearn: 0.5193633\ttotal: 1.14s\tremaining: 21.6s\n",
      "5:\tlearn: 0.4956213\ttotal: 1.36s\tremaining: 21.3s\n",
      "6:\tlearn: 0.4708455\ttotal: 1.58s\tremaining: 21s\n",
      "7:\tlearn: 0.4415019\ttotal: 1.81s\tremaining: 20.9s\n",
      "8:\tlearn: 0.4188401\ttotal: 2.06s\tremaining: 20.8s\n",
      "9:\tlearn: 0.3975288\ttotal: 2.29s\tremaining: 20.6s\n",
      "10:\tlearn: 0.3781960\ttotal: 2.53s\tremaining: 20.4s\n",
      "11:\tlearn: 0.3646768\ttotal: 2.75s\tremaining: 20.2s\n",
      "12:\tlearn: 0.3482206\ttotal: 2.98s\tremaining: 19.9s\n",
      "13:\tlearn: 0.3348535\ttotal: 3.21s\tremaining: 19.7s\n",
      "14:\tlearn: 0.3213128\ttotal: 3.45s\tremaining: 19.6s\n",
      "15:\tlearn: 0.3086137\ttotal: 3.69s\tremaining: 19.4s\n",
      "16:\tlearn: 0.2952301\ttotal: 3.94s\tremaining: 19.2s\n",
      "17:\tlearn: 0.2848347\ttotal: 4.16s\tremaining: 18.9s\n",
      "18:\tlearn: 0.2734037\ttotal: 4.38s\tremaining: 18.7s\n",
      "19:\tlearn: 0.2634376\ttotal: 4.6s\tremaining: 18.4s\n",
      "20:\tlearn: 0.2534312\ttotal: 4.83s\tremaining: 18.2s\n",
      "21:\tlearn: 0.2471068\ttotal: 5.02s\tremaining: 17.8s\n",
      "22:\tlearn: 0.2386290\ttotal: 5.26s\tremaining: 17.6s\n",
      "23:\tlearn: 0.2274567\ttotal: 5.5s\tremaining: 17.4s\n",
      "24:\tlearn: 0.2201169\ttotal: 5.72s\tremaining: 17.2s\n",
      "25:\tlearn: 0.2121213\ttotal: 5.94s\tremaining: 16.9s\n",
      "26:\tlearn: 0.2070492\ttotal: 6.14s\tremaining: 16.6s\n",
      "27:\tlearn: 0.2002551\ttotal: 6.38s\tremaining: 16.4s\n",
      "28:\tlearn: 0.1940730\ttotal: 6.59s\tremaining: 16.1s\n",
      "29:\tlearn: 0.1876727\ttotal: 6.82s\tremaining: 15.9s\n",
      "30:\tlearn: 0.1814908\ttotal: 7.04s\tremaining: 15.7s\n",
      "31:\tlearn: 0.1766075\ttotal: 7.26s\tremaining: 15.4s\n",
      "32:\tlearn: 0.1718103\ttotal: 7.48s\tremaining: 15.2s\n",
      "33:\tlearn: 0.1663363\ttotal: 7.71s\tremaining: 15s\n",
      "34:\tlearn: 0.1614109\ttotal: 7.93s\tremaining: 14.7s\n",
      "35:\tlearn: 0.1572761\ttotal: 8.15s\tremaining: 14.5s\n",
      "36:\tlearn: 0.1524878\ttotal: 8.38s\tremaining: 14.3s\n",
      "37:\tlearn: 0.1491203\ttotal: 8.57s\tremaining: 14s\n",
      "38:\tlearn: 0.1442595\ttotal: 8.79s\tremaining: 13.7s\n",
      "39:\tlearn: 0.1408027\ttotal: 9s\tremaining: 13.5s\n",
      "40:\tlearn: 0.1356375\ttotal: 9.23s\tremaining: 13.3s\n",
      "41:\tlearn: 0.1314721\ttotal: 9.47s\tremaining: 13.1s\n",
      "42:\tlearn: 0.1275144\ttotal: 9.69s\tremaining: 12.8s\n",
      "43:\tlearn: 0.1248987\ttotal: 9.89s\tremaining: 12.6s\n",
      "44:\tlearn: 0.1204400\ttotal: 10.1s\tremaining: 12.4s\n",
      "45:\tlearn: 0.1173125\ttotal: 10.4s\tremaining: 12.2s\n",
      "46:\tlearn: 0.1141646\ttotal: 10.6s\tremaining: 11.9s\n",
      "47:\tlearn: 0.1115348\ttotal: 10.8s\tremaining: 11.7s\n",
      "48:\tlearn: 0.1083114\ttotal: 11s\tremaining: 11.5s\n",
      "49:\tlearn: 0.1059960\ttotal: 11.2s\tremaining: 11.2s\n",
      "50:\tlearn: 0.1029150\ttotal: 11.4s\tremaining: 11s\n",
      "51:\tlearn: 0.1009190\ttotal: 11.7s\tremaining: 10.8s\n",
      "52:\tlearn: 0.0979589\ttotal: 11.9s\tremaining: 10.5s\n",
      "53:\tlearn: 0.0950577\ttotal: 12.1s\tremaining: 10.3s\n",
      "54:\tlearn: 0.0926473\ttotal: 12.3s\tremaining: 10.1s\n",
      "55:\tlearn: 0.0909579\ttotal: 12.5s\tremaining: 9.85s\n",
      "56:\tlearn: 0.0887127\ttotal: 12.8s\tremaining: 9.62s\n",
      "57:\tlearn: 0.0871935\ttotal: 13s\tremaining: 9.38s\n",
      "58:\tlearn: 0.0852915\ttotal: 13.2s\tremaining: 9.16s\n",
      "59:\tlearn: 0.0832506\ttotal: 13.4s\tremaining: 8.93s\n",
      "60:\tlearn: 0.0818792\ttotal: 13.6s\tremaining: 8.69s\n",
      "61:\tlearn: 0.0805354\ttotal: 13.8s\tremaining: 8.46s\n",
      "62:\tlearn: 0.0786498\ttotal: 14s\tremaining: 8.24s\n",
      "63:\tlearn: 0.0768949\ttotal: 14.3s\tremaining: 8.02s\n",
      "64:\tlearn: 0.0752028\ttotal: 14.5s\tremaining: 7.8s\n",
      "65:\tlearn: 0.0735831\ttotal: 14.7s\tremaining: 7.57s\n",
      "66:\tlearn: 0.0720518\ttotal: 14.9s\tremaining: 7.34s\n",
      "67:\tlearn: 0.0708169\ttotal: 15.1s\tremaining: 7.12s\n",
      "68:\tlearn: 0.0693160\ttotal: 15.3s\tremaining: 6.89s\n",
      "69:\tlearn: 0.0681654\ttotal: 15.5s\tremaining: 6.66s\n",
      "70:\tlearn: 0.0668857\ttotal: 15.8s\tremaining: 6.43s\n",
      "71:\tlearn: 0.0657539\ttotal: 16s\tremaining: 6.21s\n",
      "72:\tlearn: 0.0645694\ttotal: 16.2s\tremaining: 5.98s\n",
      "73:\tlearn: 0.0633502\ttotal: 16.4s\tremaining: 5.76s\n",
      "74:\tlearn: 0.0621850\ttotal: 16.6s\tremaining: 5.53s\n",
      "75:\tlearn: 0.0610953\ttotal: 16.8s\tremaining: 5.31s\n",
      "76:\tlearn: 0.0601915\ttotal: 17s\tremaining: 5.08s\n",
      "77:\tlearn: 0.0591037\ttotal: 17.2s\tremaining: 4.86s\n",
      "78:\tlearn: 0.0581575\ttotal: 17.4s\tremaining: 4.63s\n",
      "79:\tlearn: 0.0571784\ttotal: 17.6s\tremaining: 4.41s\n",
      "80:\tlearn: 0.0559673\ttotal: 17.9s\tremaining: 4.19s\n",
      "81:\tlearn: 0.0551041\ttotal: 18.1s\tremaining: 3.96s\n",
      "82:\tlearn: 0.0540396\ttotal: 18.3s\tremaining: 3.75s\n",
      "83:\tlearn: 0.0528938\ttotal: 18.5s\tremaining: 3.53s\n",
      "84:\tlearn: 0.0521038\ttotal: 18.7s\tremaining: 3.3s\n",
      "85:\tlearn: 0.0513979\ttotal: 18.9s\tremaining: 3.08s\n",
      "86:\tlearn: 0.0506775\ttotal: 19.1s\tremaining: 2.85s\n",
      "87:\tlearn: 0.0499683\ttotal: 19.3s\tremaining: 2.63s\n",
      "88:\tlearn: 0.0492837\ttotal: 19.5s\tremaining: 2.41s\n",
      "89:\tlearn: 0.0484569\ttotal: 19.7s\tremaining: 2.19s\n",
      "90:\tlearn: 0.0476381\ttotal: 19.9s\tremaining: 1.97s\n",
      "91:\tlearn: 0.0468319\ttotal: 20.2s\tremaining: 1.75s\n",
      "92:\tlearn: 0.0462209\ttotal: 20.4s\tremaining: 1.53s\n",
      "93:\tlearn: 0.0454661\ttotal: 20.6s\tremaining: 1.31s\n",
      "94:\tlearn: 0.0448637\ttotal: 20.8s\tremaining: 1.09s\n",
      "95:\tlearn: 0.0443570\ttotal: 21s\tremaining: 873ms\n",
      "96:\tlearn: 0.0436965\ttotal: 21.2s\tremaining: 654ms\n",
      "97:\tlearn: 0.0428988\ttotal: 21.4s\tremaining: 437ms\n",
      "98:\tlearn: 0.0424644\ttotal: 21.6s\tremaining: 218ms\n",
      "99:\tlearn: 0.0417788\ttotal: 21.8s\tremaining: 0us\n"
     ]
    },
    {
     "data": {
      "text/plain": [
       "<catboost.core.CatBoostClassifier at 0x2491c737400>"
      ]
     },
     "execution_count": 1,
     "metadata": {},
     "output_type": "execute_result"
    }
   ],
   "source": [
    "import numpy as np\n",
    "from sklearn.utils.class_weight import compute_class_weight\n",
    "from sklearn.model_selection import train_test_split\n",
    "from catboost import CatBoostClassifier\n",
    "import matplotlib.pyplot as plt\n",
    "sentences = np.load('bert_sentence_embeddings.npy')\n",
    "labels = np.load('labels.npy')\n",
    "\n",
    "X_train, x_test, y_train, y_test = train_test_split(sentences, labels, test_size=0.2, shuffle=True)\n",
    "\n",
    "weights = compute_class_weight(class_weight='balanced',classes=np.array([0,1]), y=y_train)\n",
    "model = CatBoostClassifier(iterations=100,\n",
    "                          learning_rate=0.1,\n",
    "                          depth=12,\n",
    "                          class_weights=weights,\n",
    "                          task_type=\"GPU\",\n",
    "                           devices='0:1')\n",
    "\n",
    "model.fit(X_train,y_train)"
   ]
  },
  {
   "cell_type": "code",
   "execution_count": 2,
   "metadata": {},
   "outputs": [
    {
     "name": "stderr",
     "output_type": "stream",
     "text": [
      "C:\\Users\\Sergei\\anaconda3\\lib\\site-packages\\sklearn\\metrics\\_classification.py:1221: UndefinedMetricWarning: Precision is ill-defined and being set to 0.0 due to no predicted samples. Use `zero_division` parameter to control this behavior.\n",
      "  _warn_prf(average, modifier, msg_start, len(result))\n"
     ]
    },
    {
     "name": "stdout",
     "output_type": "stream",
     "text": [
      "best F1 =  0.41411764705882353\n",
      "precision =  0.3548387096774194\n",
      "recall =  0.4971751412429379\n"
     ]
    },
    {
     "data": {
      "image/png": "[encoded data removed]",
      "text/plain": [
       "<Figure size 1440x864 with 1 Axes>"
      ]
     },
     "metadata": {
      "needs_background": "light"
     },
     "output_type": "display_data"
    }
   ],
   "source": [
    "from sklearn.metrics import precision_score, recall_score, f1_score\n",
    "\n",
    "proba = model.predict_proba(x_test)\n",
    "def preds_with_tr(tr, proba):\n",
    "    pr = proba[:, 1]\n",
    "    ans = (pr>tr).astype(int)\n",
    "    return ans\n",
    "\n",
    "precisions = []\n",
    "recalls = []\n",
    "f1s = []\n",
    "for t in np.arange(0.,1.,0.01):\n",
    "    prediction = preds_with_tr(t, proba)\n",
    "    precisions.append(precision_score(y_test, list(prediction)))\n",
    "    recalls.append(recall_score(y_test, list(prediction)))\n",
    "    f1s.append(f1_score(y_test, list(prediction)))\n",
    "    \n",
    "print('best F1 = ', max(f1s))\n",
    "i = np.array(f1s).argmax()\n",
    "print('precision = ', precisions[i])\n",
    "print('recall = ', recalls[i])\n",
    "\n",
    "\n",
    "plt.figure(figsize = (20,12))\n",
    "plt.grid()\n",
    "plt.title('F1')\n",
    "plt.scatter(np.arange(0.,1.,0.01), f1s)\n",
    "plt.show()"
   ]
  },
  {
   "cell_type": "code",
   "execution_count": null,
   "metadata": {},
   "outputs": [],
   "source": []
  }
 ],
 "metadata": {
  "kernelspec": {
   "display_name": "Python 3",
   "language": "python",
   "name": "python3"
  },
  "language_info": {
   "codemirror_mode": {
    "name": "ipython",
    "version": 3
   },
   "file_extension": ".py",
   "mimetype": "text/x-python",
   "name": "python",
   "nbconvert_exporter": "python",
   "pygments_lexer": "ipython3",
   "version": "3.8.5"
  }
 },
 "nbformat": 4,
 "nbformat_minor": 4
}
