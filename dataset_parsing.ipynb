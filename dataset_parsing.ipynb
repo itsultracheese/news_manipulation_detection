{
 "cells": [
  {
   "cell_type": "code",
   "execution_count": 1,
   "id": "7b622344",
   "metadata": {
    "ExecuteTime": {
     "end_time": "2021-10-09T11:29:58.257764Z",
     "start_time": "2021-10-09T11:29:46.627499Z"
    }
   },
   "outputs": [
    {
     "name": "stderr",
     "output_type": "stream",
     "text": [
      "c:\\users\\amina\\appdata\\local\\programs\\python\\python38\\lib\\site-packages\\setuptools\\distutils_patch.py:25: UserWarning: Distutils was imported before Setuptools. This usage is discouraged and may exhibit undesirable behaviors or errors. Please use Setuptools' objects directly or at least import Setuptools first.\n",
      "  warnings.warn(\n"
     ]
    }
   ],
   "source": [
    "import glob\n",
    "import os\n",
    "import codecs\n",
    "import numpy as np\n",
    "import pytorch_lightning as pl\n",
    "import torch\n",
    "from torch.utils.data import Dataset, DataLoader\n",
    "import matplotlib.pyplot as plt\n",
    "from transformers import BertTokenizer, BertForTokenClassification\n",
    "from tqdm.notebook import tqdm"
   ]
  },
  {
   "cell_type": "code",
   "execution_count": 2,
   "id": "12ca19b4",
   "metadata": {
    "ExecuteTime": {
     "end_time": "2021-10-09T11:29:58.287534Z",
     "start_time": "2021-10-09T11:29:58.257764Z"
    }
   },
   "outputs": [],
   "source": [
    "def read_articles_from_file_list(folder_name, file_pattern=\"*.txt\"):\n",
    "    '''\n",
    "    Read articles from files matching patterns <file_pattern> from  \n",
    "    the directory <folder_name>. \n",
    "    The content of the article is saved in the dictionary whose key\n",
    "    is the id of the article (extracted from the file name).\n",
    "    Each element of <sentence_list> is one line of the article.\n",
    "    '''\n",
    "    file_list = glob.glob(os.path.join(folder_name, file_pattern))\n",
    "    articles = {}\n",
    "    article_id_list, sentence_id_list, sentence_list = ([], [], [])\n",
    "    for filename in sorted(file_list):\n",
    "        article_id = os.path.basename(filename).split('.')[0][7:]\n",
    "        with codecs.open(filename, 'r', encoding='utf8') as f:\n",
    "            articles[article_id] = f.read()\n",
    "    return articles\n",
    "\n",
    "def read_predictions_from_file(filename):\n",
    "    '''\n",
    "    Reader for the gold file and the template output file. \n",
    "    Return values are four arrays with article ids, labels \n",
    "    (or ? in the case of a template file), begin of a fragment, \n",
    "    end of a fragment. \n",
    "    '''\n",
    "    articles_id, span_starts, span_ends, gold_labels = ([], [], [], [])\n",
    "    with open(filename, 'r') as f:\n",
    "        for row in f.readlines():\n",
    "            article_id, gold_label, span_start, span_end = row.rstrip().split('\\t')\n",
    "            articles_id.append(article_id)\n",
    "            gold_labels.append((gold_label, int(span_start), int(span_end)))\n",
    "    return articles_id, gold_labels"
   ]
  },
  {
   "cell_type": "code",
   "execution_count": 45,
   "id": "119e0da1",
   "metadata": {
    "ExecuteTime": {
     "end_time": "2021-10-09T11:55:14.702346Z",
     "start_time": "2021-10-09T11:55:14.676384Z"
    }
   },
   "outputs": [],
   "source": [
    "def label(text, gt_labels):\n",
    "    tokens = []\n",
    "    labels = []\n",
    "    special_symbols = \"\"\"!\"#$%&'()*+, -./:;<=>?@[\\]^_`{|}~ \\n\\t\\'\\\\\"\"\"\n",
    "    sentence = []\n",
    "    sent_labels = []\n",
    "    word = ''\n",
    "    inside = False\n",
    "    word_start = 0\n",
    "    for i in range(len(text)):\n",
    "        if text[i] in special_symbols:\n",
    "            if len(word) > 1:\n",
    "                sentence.append(word)\n",
    "                word = ''\n",
    "                if inside:\n",
    "                    sent_labels.append(1)\n",
    "                else:\n",
    "                    sent_labels.append(0)\n",
    "                # if the sentence has ended\n",
    "                if text[i] in \"!.?\\n\" and (i < len(text) - 2 and not (text[i+1].islower() or text[i+2].islower())):\n",
    "                    if len(sentence) > 1:\n",
    "                        tokens.append(sentence)\n",
    "                        labels.append(sent_labels)\n",
    "                        sentence = []\n",
    "                        sent_labels = []\n",
    "        else:\n",
    "            if len(word) == 0:\n",
    "                word_start = i\n",
    "            word += text[i]\n",
    "        if len(gt_labels) > 0:\n",
    "            if i == gt_labels[0][1]:\n",
    "                inside = True\n",
    "            elif i == gt_labels[0][2] + 1:\n",
    "                inside = False\n",
    "                gt_labels.pop(0)\n",
    "    return tokens, labels\n",
    "    \n",
    "\n",
    "def create_dataset(path_to_articles, path_to_labels):\n",
    "    '''\n",
    "    Creates the dataset from the files contained in 'datasets/train-articles/' folder\n",
    "    \n",
    "    texts : list, each represents one article and contains\n",
    "    '''\n",
    "    texts = []\n",
    "    labels = []\n",
    "    articles = read_articles_from_file_list(path_to_articles)\n",
    "    article_names = list(articles.keys())\n",
    "    prefix_lbl = path_to_labels + '/article'\n",
    "    postfix_lbl = '.task-flc-tc.labels'\n",
    "    for name in article_names:\n",
    "        articles_id, gold_labels = read_predictions_from_file(prefix_lbl + name + postfix_lbl)\n",
    "        gt_labels = []\n",
    "        for i in range(len(gold_labels)):\n",
    "            if gold_labels[i][0] == 'Loaded_Language':\n",
    "                gt_labels.append(gold_labels[i])\n",
    "        gt_labels.sort(key=lambda x: x[1])\n",
    "        tokens, lbls = label(articles[name], gt_labels)\n",
    "        texts.extend(tokens)\n",
    "        labels.extend(lbls)\n",
    "    \n",
    "    return texts, labels, article_names"
   ]
  },
  {
   "cell_type": "code",
   "execution_count": 46,
   "id": "0dbb6b92",
   "metadata": {
    "ExecuteTime": {
     "end_time": "2021-10-09T11:55:17.691647Z",
     "start_time": "2021-10-09T11:55:15.776867Z"
    }
   },
   "outputs": [],
   "source": [
    "path_to_articles = 'datasets/train-articles'\n",
    "path_to_labels = 'datasets/train-labels-task-flc-tc'\n",
    "texts, labels, article_names = create_dataset(path_to_articles, path_to_labels)"
   ]
  },
  {
   "cell_type": "code",
   "execution_count": 47,
   "id": "04292ba1",
   "metadata": {
    "ExecuteTime": {
     "end_time": "2021-10-09T11:55:18.907033Z",
     "start_time": "2021-10-09T11:55:18.901724Z"
    }
   },
   "outputs": [
    {
     "name": "stdout",
     "output_type": "stream",
     "text": [
      "15881\n",
      "15881\n"
     ]
    }
   ],
   "source": [
    "print(len(texts))\n",
    "print(len(labels))"
   ]
  },
  {
   "cell_type": "code",
   "execution_count": 48,
   "id": "ca072cee",
   "metadata": {
    "ExecuteTime": {
     "end_time": "2021-10-09T11:55:19.737176Z",
     "start_time": "2021-10-09T11:55:19.726919Z"
    }
   },
   "outputs": [
    {
     "data": {
      "text/plain": [
       "True"
      ]
     },
     "execution_count": 48,
     "metadata": {},
     "output_type": "execute_result"
    }
   ],
   "source": [
    "len(texts[432]) == len(labels[432])"
   ]
  },
  {
   "cell_type": "code",
   "execution_count": 49,
   "id": "4b3730c7",
   "metadata": {
    "ExecuteTime": {
     "end_time": "2021-10-09T11:55:20.756552Z",
     "start_time": "2021-10-09T11:55:20.460515Z"
    }
   },
   "outputs": [
    {
     "data": {
      "image/png": "[encoded data removed]",
      "text/plain": [
       "<Figure size 432x288 with 1 Axes>"
      ]
     },
     "metadata": {
      "needs_background": "light"
     },
     "output_type": "display_data"
    }
   ],
   "source": [
    "lengths = [len(x) for x in texts]\n",
    "plt.hist(lengths, bins=50)\n",
    "plt.show()"
   ]
  },
  {
   "cell_type": "code",
   "execution_count": 50,
   "id": "f5ad3d7d",
   "metadata": {
    "ExecuteTime": {
     "end_time": "2021-10-09T11:55:22.162677Z",
     "start_time": "2021-10-09T11:55:22.147278Z"
    }
   },
   "outputs": [
    {
     "data": {
      "text/plain": [
       "179"
      ]
     },
     "execution_count": 50,
     "metadata": {},
     "output_type": "execute_result"
    }
   ],
   "source": [
    "max(lengths)"
   ]
  },
  {
   "cell_type": "code",
   "execution_count": 51,
   "id": "31f11bbf",
   "metadata": {
    "ExecuteTime": {
     "end_time": "2021-10-09T11:55:24.335284Z",
     "start_time": "2021-10-09T11:55:24.319183Z"
    }
   },
   "outputs": [
    {
     "data": {
      "text/plain": [
       "[['Next',\n",
       "  'plague',\n",
       "  'outbreak',\n",
       "  'in',\n",
       "  'Madagascar',\n",
       "  'could',\n",
       "  'be',\n",
       "  'stronger',\n",
       "  'WHO'],\n",
       " ['Geneva',\n",
       "  'The',\n",
       "  'World',\n",
       "  'Health',\n",
       "  'Organisation',\n",
       "  'chief',\n",
       "  'on',\n",
       "  'Wednesday',\n",
       "  'said',\n",
       "  'adeadly',\n",
       "  'plague',\n",
       "  'epidemic',\n",
       "  'appeared',\n",
       "  'to',\n",
       "  'have',\n",
       "  'been',\n",
       "  'brought',\n",
       "  'under',\n",
       "  'control',\n",
       "  'in',\n",
       "  'Madagascar',\n",
       "  'but',\n",
       "  'warned',\n",
       "  'the',\n",
       "  'next',\n",
       "  'outbreak',\n",
       "  'would',\n",
       "  'likely',\n",
       "  'be',\n",
       "  'stronger'],\n",
       " ['The',\n",
       "  'next',\n",
       "  'transmission',\n",
       "  'could',\n",
       "  'be',\n",
       "  'more',\n",
       "  'pronounced',\n",
       "  'or',\n",
       "  'stronger',\n",
       "  'WHO',\n",
       "  'Director',\n",
       "  'General',\n",
       "  'Tedros',\n",
       "  'Adhanom',\n",
       "  'Ghebreyesus',\n",
       "  'told',\n",
       "  'reporters',\n",
       "  'in',\n",
       "  'Geneva',\n",
       "  'insisting',\n",
       "  'that',\n",
       "  'the',\n",
       "  'issue',\n",
       "  'is',\n",
       "  'serious'],\n",
       " ['An',\n",
       "  'outbreak',\n",
       "  'of',\n",
       "  'both',\n",
       "  'bubonic',\n",
       "  'plague',\n",
       "  'which',\n",
       "  'is',\n",
       "  'spread',\n",
       "  'by',\n",
       "  'infected',\n",
       "  'rats',\n",
       "  'via',\n",
       "  'flea',\n",
       "  'bites',\n",
       "  'and',\n",
       "  'pneumonic',\n",
       "  'plague',\n",
       "  'spread',\n",
       "  'person',\n",
       "  'to',\n",
       "  'person',\n",
       "  'has',\n",
       "  'killed',\n",
       "  'more',\n",
       "  'than',\n",
       "  '200',\n",
       "  'people',\n",
       "  'in',\n",
       "  'the',\n",
       "  'Indian',\n",
       "  'Ocean',\n",
       "  'island',\n",
       "  'nation',\n",
       "  'since',\n",
       "  'August'],\n",
       " ['Madagascar',\n",
       "  'has',\n",
       "  'suffered',\n",
       "  'bubonic',\n",
       "  'plague',\n",
       "  'outbreaks',\n",
       "  'almost',\n",
       "  'every',\n",
       "  'year',\n",
       "  'since',\n",
       "  '1980',\n",
       "  'often',\n",
       "  'caused',\n",
       "  'by',\n",
       "  'rats',\n",
       "  'fleeing',\n",
       "  'forest',\n",
       "  'fires'],\n",
       " ['The',\n",
       "  'disease',\n",
       "  'tends',\n",
       "  'to',\n",
       "  'make',\n",
       "  'acomeback',\n",
       "  'each',\n",
       "  'hot',\n",
       "  'rainy',\n",
       "  'season',\n",
       "  'from',\n",
       "  'September',\n",
       "  'to',\n",
       "  'April'],\n",
       " ['On',\n",
       "  'average',\n",
       "  'between',\n",
       "  '300',\n",
       "  'and',\n",
       "  '600',\n",
       "  'infections',\n",
       "  'are',\n",
       "  'recorded',\n",
       "  'every',\n",
       "  'year',\n",
       "  'among',\n",
       "  'apopulation',\n",
       "  'approaching',\n",
       "  '25',\n",
       "  'million',\n",
       "  'people',\n",
       "  'according',\n",
       "  'to',\n",
       "  'aUN',\n",
       "  'estimate'],\n",
       " ['But',\n",
       "  'Tedros',\n",
       "  'voiced',\n",
       "  'alarm',\n",
       "  'that',\n",
       "  'plague',\n",
       "  'in',\n",
       "  'Madagascar',\n",
       "  'behaved',\n",
       "  'in',\n",
       "  'avery',\n",
       "  'very',\n",
       "  'different',\n",
       "  'way',\n",
       "  'this',\n",
       "  'year'],\n",
       " ['Cases',\n",
       "  'sprang',\n",
       "  'up',\n",
       "  'far',\n",
       "  'earlier',\n",
       "  'than',\n",
       "  'usual',\n",
       "  'and',\n",
       "  'instead',\n",
       "  'of',\n",
       "  'being',\n",
       "  'confined',\n",
       "  'to',\n",
       "  'the',\n",
       "  'countryside',\n",
       "  'the',\n",
       "  'disease',\n",
       "  'infiltrated',\n",
       "  'towns'],\n",
       " ['The',\n",
       "  'authorities',\n",
       "  'recorded',\n",
       "  'more',\n",
       "  'than',\n",
       "  '2000',\n",
       "  'cases',\n",
       "  'and',\n",
       "  'Tedros',\n",
       "  'said',\n",
       "  'Wednesday',\n",
       "  'the',\n",
       "  'death',\n",
       "  'toll',\n",
       "  'stood',\n",
       "  'at',\n",
       "  '207']]"
      ]
     },
     "execution_count": 51,
     "metadata": {},
     "output_type": "execute_result"
    }
   ],
   "source": [
    "texts[:10]"
   ]
  },
  {
   "cell_type": "code",
   "execution_count": null,
   "id": "216f72a8",
   "metadata": {},
   "outputs": [],
   "source": []
  }
 ],
 "metadata": {
  "kernelspec": {
   "display_name": "Python 3",
   "language": "python",
   "name": "python3"
  },
  "language_info": {
   "codemirror_mode": {
    "name": "ipython",
    "version": 3
   },
   "file_extension": ".py",
   "mimetype": "text/x-python",
   "name": "python",
   "nbconvert_exporter": "python",
   "pygments_lexer": "ipython3",
   "version": "3.8.8"
  },
  "toc": {
   "base_numbering": 1,
   "nav_menu": {},
   "number_sections": true,
   "sideBar": true,
   "skip_h1_title": false,
   "title_cell": "Table of Contents",
   "title_sidebar": "Contents",
   "toc_cell": false,
   "toc_position": {},
   "toc_section_display": true,
   "toc_window_display": false
  }
 },
 "nbformat": 4,
 "nbformat_minor": 5
}
